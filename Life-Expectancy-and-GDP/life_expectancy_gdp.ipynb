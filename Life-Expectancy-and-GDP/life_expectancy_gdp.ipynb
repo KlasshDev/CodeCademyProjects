{
 "cells": [
  {
   "cell_type": "markdown",
   "metadata": {},
   "source": [
    "# Title: Life Expectancy vs GDP\n",
    "### Author: KlasshDev\n",
    "### Date: 2023.01.16\n",
    "### Source: World Health Organization and the World Bank\n"
   ]
  },
  {
   "cell_type": "code",
   "execution_count": 2,
   "metadata": {},
   "outputs": [],
   "source": [
    "# Imports\n",
    "import matplotlib as plt\n",
    "import seaborn as sns\n",
    "import pandas as pd"
   ]
  },
  {
   "cell_type": "markdown",
   "metadata": {},
   "source": [
    "# Initial Data Exploring"
   ]
  },
  {
   "cell_type": "code",
   "execution_count": 31,
   "metadata": {},
   "outputs": [
    {
     "name": "stdout",
     "output_type": "stream",
     "text": [
      "  Country  Year  Life_Expectancy           GDP\n",
      "0   Chile  2000             77.3  7.786093e+10\n",
      "1   Chile  2001             77.3  7.097992e+10\n",
      "2   Chile  2002             77.8  6.973681e+10\n",
      "3   Chile  2003             77.9  7.564346e+10\n",
      "4   Chile  2004             78.0  9.921039e+10\n"
     ]
    }
   ],
   "source": [
    "# Load data from csv and print head\n",
    "healthStats = pd.read_csv('all_data.csv')\n",
    "\n",
    "\n",
    "# Clean column name\n",
    "healthStats.rename(columns = {'Life expectancy at birth (years)':'Life_Expectancy'}, inplace = True)\n",
    "print(healthStats.head())"
   ]
  },
  {
   "cell_type": "code",
   "execution_count": 5,
   "metadata": {
    "scrolled": true
   },
   "outputs": [
    {
     "name": "stdout",
     "output_type": "stream",
     "text": [
      "<class 'pandas.core.frame.DataFrame'>\n",
      "RangeIndex: 96 entries, 0 to 95\n",
      "Data columns (total 4 columns):\n",
      " #   Column                            Non-Null Count  Dtype  \n",
      "---  ------                            --------------  -----  \n",
      " 0   Country                           96 non-null     object \n",
      " 1   Year                              96 non-null     int64  \n",
      " 2   Life expectancy at birth (years)  96 non-null     float64\n",
      " 3   GDP                               96 non-null     float64\n",
      "dtypes: float64(2), int64(1), object(1)\n",
      "memory usage: 3.1+ KB\n"
     ]
    },
    {
     "data": {
      "text/html": [
       "<div>\n",
       "<style scoped>\n",
       "    .dataframe tbody tr th:only-of-type {\n",
       "        vertical-align: middle;\n",
       "    }\n",
       "\n",
       "    .dataframe tbody tr th {\n",
       "        vertical-align: top;\n",
       "    }\n",
       "\n",
       "    .dataframe thead th {\n",
       "        text-align: right;\n",
       "    }\n",
       "</style>\n",
       "<table border=\"1\" class=\"dataframe\">\n",
       "  <thead>\n",
       "    <tr style=\"text-align: right;\">\n",
       "      <th></th>\n",
       "      <th>Year</th>\n",
       "      <th>Life expectancy at birth (years)</th>\n",
       "      <th>GDP</th>\n",
       "    </tr>\n",
       "  </thead>\n",
       "  <tbody>\n",
       "    <tr>\n",
       "      <th>count</th>\n",
       "      <td>96.000000</td>\n",
       "      <td>96.000000</td>\n",
       "      <td>9.600000e+01</td>\n",
       "    </tr>\n",
       "    <tr>\n",
       "      <th>mean</th>\n",
       "      <td>2007.500000</td>\n",
       "      <td>72.789583</td>\n",
       "      <td>3.880499e+12</td>\n",
       "    </tr>\n",
       "    <tr>\n",
       "      <th>std</th>\n",
       "      <td>4.633971</td>\n",
       "      <td>10.672882</td>\n",
       "      <td>5.197561e+12</td>\n",
       "    </tr>\n",
       "    <tr>\n",
       "      <th>min</th>\n",
       "      <td>2000.000000</td>\n",
       "      <td>44.300000</td>\n",
       "      <td>4.415703e+09</td>\n",
       "    </tr>\n",
       "    <tr>\n",
       "      <th>25%</th>\n",
       "      <td>2003.750000</td>\n",
       "      <td>74.475000</td>\n",
       "      <td>1.733018e+11</td>\n",
       "    </tr>\n",
       "    <tr>\n",
       "      <th>50%</th>\n",
       "      <td>2007.500000</td>\n",
       "      <td>76.750000</td>\n",
       "      <td>1.280220e+12</td>\n",
       "    </tr>\n",
       "    <tr>\n",
       "      <th>75%</th>\n",
       "      <td>2011.250000</td>\n",
       "      <td>78.900000</td>\n",
       "      <td>4.067510e+12</td>\n",
       "    </tr>\n",
       "    <tr>\n",
       "      <th>max</th>\n",
       "      <td>2015.000000</td>\n",
       "      <td>81.000000</td>\n",
       "      <td>1.810000e+13</td>\n",
       "    </tr>\n",
       "  </tbody>\n",
       "</table>\n",
       "</div>"
      ],
      "text/plain": [
       "              Year  Life expectancy at birth (years)           GDP\n",
       "count    96.000000                         96.000000  9.600000e+01\n",
       "mean   2007.500000                         72.789583  3.880499e+12\n",
       "std       4.633971                         10.672882  5.197561e+12\n",
       "min    2000.000000                         44.300000  4.415703e+09\n",
       "25%    2003.750000                         74.475000  1.733018e+11\n",
       "50%    2007.500000                         76.750000  1.280220e+12\n",
       "75%    2011.250000                         78.900000  4.067510e+12\n",
       "max    2015.000000                         81.000000  1.810000e+13"
      ]
     },
     "execution_count": 5,
     "metadata": {},
     "output_type": "execute_result"
    }
   ],
   "source": [
    "# Initial Data Explore\n",
    "healthStats.info()\n",
    "healthStats.describe()"
   ]
  },
  {
   "cell_type": "code",
   "execution_count": 32,
   "metadata": {},
   "outputs": [
    {
     "name": "stdout",
     "output_type": "stream",
     "text": [
      "['Chile' 'China' 'Germany' 'Mexico' 'United States of America' 'Zimbabwe']\n",
      "[2000 2001 2002 2003 2004 2005 2006 2007 2008 2009 2010 2011 2012 2013\n",
      " 2014 2015]\n",
      "[77.3 77.8 77.9 78.  78.4 78.9 79.6 79.3 79.1 79.8 79.9 80.1 80.3 80.5\n",
      " 71.7 72.2 72.7 73.1 73.5 73.9 74.2 74.4 74.5 74.9 75.  75.2 75.4 75.6\n",
      " 75.8 76.1 78.3 78.5 79.2 80.  80.6 80.9 81.  74.8 75.3 76.  75.7 76.3\n",
      " 76.6 76.7 76.8 76.9 77.  77.2 77.5 78.1 78.2 78.7 78.8 46.  45.3 44.8\n",
      " 44.5 44.3 44.6 45.4 46.6 48.2 50.  52.4 54.9 56.6 58.  59.2 60.7]\n",
      "[7.78609322e+10 7.09799240e+10 6.97368114e+10 7.56434598e+10\n",
      " 9.92103929e+10 1.22965000e+11 1.54788000e+11 1.73606000e+11\n",
      " 1.79638000e+11 1.72389000e+11 2.18538000e+11 2.52252000e+11\n",
      " 2.67122000e+11 2.78384000e+11 2.60990000e+11 2.42518000e+11\n",
      " 1.21135000e+12 1.33940000e+12 1.47055000e+12 1.66029000e+12\n",
      " 1.95535000e+12 2.28597000e+12 2.75213000e+12 3.55218000e+12\n",
      " 4.59821000e+12 5.10995000e+12 6.10062000e+12 7.57255000e+12\n",
      " 8.56055000e+12 9.60722000e+12 1.04824000e+13 1.10647000e+13\n",
      " 1.94995000e+12 1.95065000e+12 2.07914000e+12 2.50573000e+12\n",
      " 2.81925000e+12 2.86141000e+12 3.00245000e+12 3.43995000e+12\n",
      " 3.75237000e+12 3.41801000e+12 3.41709000e+12 3.75770000e+12\n",
      " 3.54398000e+12 3.75251000e+12 3.89061000e+12 3.37561000e+12\n",
      " 6.83648000e+11 7.24704000e+11 7.41560000e+11 7.13284000e+11\n",
      " 7.70268000e+11 8.66346000e+11 9.65281000e+11 1.04347000e+12\n",
      " 1.10128000e+12 8.94949000e+11 1.05113000e+12 1.17119000e+12\n",
      " 1.18660000e+12 1.26198000e+12 1.29846000e+12 1.15226000e+12\n",
      " 1.03000000e+13 1.06000000e+13 1.10000000e+13 1.15000000e+13\n",
      " 1.23000000e+13 1.31000000e+13 1.39000000e+13 1.45000000e+13\n",
      " 1.47000000e+13 1.44000000e+13 1.50000000e+13 1.55000000e+13\n",
      " 1.62000000e+13 1.67000000e+13 1.74000000e+13 1.81000000e+13\n",
      " 6.68995760e+09 6.77738470e+09 6.34211640e+09 5.72759180e+09\n",
      " 5.80559840e+09 5.75521520e+09 5.44389650e+09 5.29195010e+09\n",
      " 4.41570280e+09 8.62157361e+09 1.01418597e+10 1.20984507e+10\n",
      " 1.42424903e+10 1.54517687e+10 1.58910492e+10 1.63046678e+10]\n",
      "                     Country  Year  Life_Expectancy           GDP\n",
      "79  United States of America  2015             79.3  1.810000e+13\n",
      "     Country  Year  Life_Expectancy           GDP\n",
      "88  Zimbabwe  2008             48.2  4.415703e+09\n",
      "    Country  Year  Life_Expectancy           GDP\n",
      "47  Germany  2015             81.0  3.375610e+12\n",
      "     Country  Year  Life_Expectancy           GDP\n",
      "84  Zimbabwe  2004             44.3  5.805598e+09\n",
      "                         Life_Expectancy            \n",
      "                                    mean   min   max\n",
      "Country                                             \n",
      "Chile                           78.94375  77.3  80.5\n",
      "China                           74.26250  71.7  76.1\n",
      "Germany                         79.65625  78.0  81.0\n",
      "Mexico                          75.71875  74.8  76.7\n",
      "United States of America        78.06250  76.8  79.3\n",
      "Zimbabwe                        50.09375  44.3  60.7\n"
     ]
    }
   ],
   "source": [
    "# What Unique info\n",
    "for column in healthStats:\n",
    "    print(healthStats[column].unique())\n",
    "\n",
    "#GDP Info\n",
    "print(healthStats[healthStats.GDP == healthStats.GDP.max()])\n",
    "print(healthStats[healthStats.GDP == healthStats.GDP.min()])\n",
    "\n",
    "# Life expectancy\n",
    "print(healthStats[healthStats['Life_Expectancy'] \n",
    "                  == healthStats['Life_Expectancy'].max()])\n",
    "print(healthStats[healthStats['Life_Expectancy'] \n",
    "                  == healthStats['Life_Expectancy'].min()])\n",
    "\n",
    "print(healthStats.groupby('Country').agg({'Life_Expectancy': ['mean', 'min', 'max']}))"
   ]
  },
  {
   "cell_type": "markdown",
   "metadata": {},
   "source": [
    "### Initial Findings:\n",
    "- Only 96 entries in data source\n",
    "- From years 2000 - 2015\n",
    "- Countries: 'Chile' 'China' 'Germany' 'Mexico' 'United States of America' 'Zimbabwe'\n",
    "- Min Life expectency: 44 years\n",
    "- Max: 81 years\n",
    "- Min GDP: 4.4 Billion (Zimbabwe 2008)\n",
    "- Max GDP: 1.8 Trillion (USA 2015)\n",
    "- Highest age: 81, Germany 2015\n",
    "- Lowest age: 44.3, Zimbabwe 2004\n",
    "- Zimbabwe is in rough shape, Mean age is only 50 (from 44.3 to only 60.7)\n",
    "- In contrast, Germany's mean is 79! (from 78 - 81)"
   ]
  },
  {
   "cell_type": "markdown",
   "metadata": {},
   "source": [
    "# Visualizations"
   ]
  },
  {
   "cell_type": "code",
   "execution_count": null,
   "metadata": {},
   "outputs": [],
   "source": [
    "# Average life expectancy by country over time\n",
    "\n",
    "# Barplot by country\n",
    "\n",
    "# Plot GDP and life expectancy\n",
    "# Whole df\n",
    "# Per country"
   ]
  }
 ],
 "metadata": {
  "kernelspec": {
   "display_name": "Python 3 (ipykernel)",
   "language": "python",
   "name": "python3"
  },
  "language_info": {
   "codemirror_mode": {
    "name": "ipython",
    "version": 3
   },
   "file_extension": ".py",
   "mimetype": "text/x-python",
   "name": "python",
   "nbconvert_exporter": "python",
   "pygments_lexer": "ipython3",
   "version": "3.10.6"
  }
 },
 "nbformat": 4,
 "nbformat_minor": 4
}
