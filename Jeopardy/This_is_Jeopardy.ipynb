{
 "cells": [
  {
   "cell_type": "markdown",
   "metadata": {},
   "source": [
    "# This is Jeopardy!"
   ]
  },
  {
   "cell_type": "markdown",
   "metadata": {},
   "source": [
    "#### Overview"
   ]
  },
  {
   "cell_type": "markdown",
   "metadata": {},
   "source": [
    "This project is slightly different than others you have encountered thus far. Instead of a step-by-step tutorial, this project contains a series of open-ended requirements which describe the project you'll be building. There are many possible ways to correctly fulfill all of these requirements, and you should expect to use the internet, Codecademy, and/or other resources when you encounter a problem that you cannot easily solve."
   ]
  },
  {
   "cell_type": "markdown",
   "metadata": {},
   "source": [
    "#### Project Goals"
   ]
  },
  {
   "cell_type": "markdown",
   "metadata": {},
   "source": [
    "You will work to write several functions that investigate a dataset of _Jeopardy!_ questions and answers. Filter the dataset for topics that you're interested in, compute the average difficulty of those questions, and train to become the next Jeopardy champion!"
   ]
  },
  {
   "cell_type": "markdown",
   "metadata": {},
   "source": [
    "## Prerequisites"
   ]
  },
  {
   "cell_type": "markdown",
   "metadata": {},
   "source": [
    "In order to complete this project, you should have completed the Pandas lessons in the <a href=\"https://www.codecademy.com/learn/paths/analyze-data-with-python\">Analyze Data with Python Skill Path</a>. You can also find those lessons in the <a href=\"https://www.codecademy.com/learn/data-processing-pandas\">Data Analysis with Pandas course</a> or the <a href=\"https://www.codecademy.com/learn/paths/data-science/\">Data Scientist Career Path</a>.\n",
    "\n",
    "Finally, the <a href=\"https://www.codecademy.com/learn/practical-data-cleaning\">Practical Data Cleaning</a> course may also be helpful."
   ]
  },
  {
   "cell_type": "markdown",
   "metadata": {},
   "source": [
    "## Project Requirements"
   ]
  },
  {
   "cell_type": "markdown",
   "metadata": {},
   "source": [
    "1. We've provided a csv file containing data about the game show _Jeopardy!_ in a file named `jeopardy.csv`. Load the data into a DataFrame and investigate its contents. Try to print out specific columns.\n",
    "\n",
    "   Note that in order to make this project as \"real-world\" as possible, we haven't modified the data at all - we're giving it to you exactly how we found it. As a result, this data isn't as \"clean\" as the datasets you normally find on Codecademy. More specifically, there's something odd about the column names. After you figure out the problem with the column names, you may want to rename them to make your life easier for the rest of the project.\n",
    "   \n",
    "   In order to display the full contents of a column, we've added this line of code for you:\n",
    "   \n",
    "   ```py\n",
    "   pd.set_option('display.max_colwidth', None)\n",
    "   ```"
   ]
  },
  {
   "cell_type": "code",
   "execution_count": 123,
   "metadata": {
    "lines_to_next_cell": 1
   },
   "outputs": [
    {
     "name": "stdout",
     "output_type": "stream",
     "text": [
      "   show_number    air_date      round category value  \\\n",
      "0         4680  2004-12-31  Jeopardy!  HISTORY  $200   \n",
      "\n",
      "                                                                                           question  \\\n",
      "0  For the last 8 years of his life, Galileo was under house arrest for espousing this man's theory   \n",
      "\n",
      "       answer  \n",
      "0  Copernicus  \n",
      "<class 'pandas.core.frame.DataFrame'>\n",
      "RangeIndex: 216930 entries, 0 to 216929\n",
      "Data columns (total 7 columns):\n",
      " #   Column       Non-Null Count   Dtype \n",
      "---  ------       --------------   ----- \n",
      " 0   show_number  216930 non-null  int64 \n",
      " 1   air_date     216930 non-null  object\n",
      " 2   round        216930 non-null  object\n",
      " 3   category     216930 non-null  object\n",
      " 4   value        216930 non-null  object\n",
      " 5   question     216930 non-null  object\n",
      " 6   answer       216928 non-null  object\n",
      "dtypes: int64(1), object(6)\n",
      "memory usage: 11.6+ MB\n",
      "None\n"
     ]
    }
   ],
   "source": [
    "import pandas as pd\n",
    "# pd.set_option('display.max_colwidth', None)\n",
    "\n",
    "Jeopardy = pd.read_csv('jeopardy.csv')\n",
    "Jeopardy.rename(columns={'Show Number'  : 'show_number', \n",
    "                        ' Air Date'     : 'air_date',\n",
    "                        ' Round'        : 'round',\n",
    "                        ' Category'     : 'category',\n",
    "                        ' Value'        : 'value',\n",
    "                        ' Question'     : 'question',\n",
    "                        ' Answer'       : 'answer'}, inplace=True)\n",
    "print(Jeopardy.head(1))\n",
    "print(Jeopardy.info())"
   ]
  },
  {
   "cell_type": "markdown",
   "metadata": {},
   "source": [
    "2. Write a function that filters the dataset for questions that contains all of the words in a list of words. For example, when the list `[\"King\", \"England\"]` was passed to our function, the function returned a DataFrame of 49 rows. Every row had the strings `\"King\"` and `\"England\"` somewhere in its `\" Question\"`.\n",
    "\n",
    "   Test your function by printing out the column containing the question of each row of the dataset."
   ]
  },
  {
   "cell_type": "code",
   "execution_count": 111,
   "metadata": {
    "lines_to_next_cell": 0
   },
   "outputs": [],
   "source": [
    "def search_questions(word_list, df):\n",
    "    # Input: List of strings\n",
    "    # Output: dataframe with questions containing all words from the list\n",
    "    check = lambda question: all(str.lower(word) in str.lower(question) for word in word_list)\n",
    "    result = df.loc[df['question'].apply(check)]\n",
    "    return result"
   ]
  },
  {
   "cell_type": "markdown",
   "metadata": {},
   "source": [
    "3. Test your original function with a few different sets of words to try to find some ways your function breaks. Edit your function so it is more robust.\n",
    "\n",
    "   For example, think about capitalization. We probably want to find questions that contain the word `\"King\"` or `\"king\"`.\n",
    "   \n",
    "   You may also want to check to make sure you don't find rows that contain substrings of your given words. For example, our function found a question that didn't contain the word `\"king\"`, however it did contain the word `\"viking\"` &mdash; it found the `\"king\"` inside `\"viking\"`. Note that this also comes with some drawbacks &mdash; you would no longer find questions that contained words like `\"England's\"`."
   ]
  },
  {
   "cell_type": "code",
   "execution_count": 107,
   "metadata": {},
   "outputs": [
    {
     "name": "stdout",
     "output_type": "stream",
     "text": [
      "        show_number    air_date             round  \\\n",
      "36397          5799  2009-11-26         Jeopardy!   \n",
      "52400          3973  2001-12-05  Double Jeopardy!   \n",
      "59795          6009  2010-10-28         Jeopardy!   \n",
      "73005          4285  2003-03-28  Double Jeopardy!   \n",
      "132277         2872  1997-02-11         Jeopardy!   \n",
      "154076         3337  1999-02-23   Final Jeopardy!   \n",
      "158275         5614  2009-01-22         Jeopardy!   \n",
      "189895         3425  1999-06-25  Double Jeopardy!   \n",
      "\n",
      "                           category value  \\\n",
      "36397              FEMALE INVENTORS  $600   \n",
      "52400            HOW SOON WE FORGET  $400   \n",
      "59795                  SHE'S A LADY  $400   \n",
      "73005   SHE BLINDED ME WITH SCIENCE  $400   \n",
      "132277                 MILLIONAIRES  $300   \n",
      "154076                      SYMBOLS  None   \n",
      "158275                  VIDEO GAMES  $600   \n",
      "189895            DAYS OF OUR LIVES  $800   \n",
      "\n",
      "                                                                                                                question  \\\n",
      "36397   Ada Lovelace, daughter of Lord Byron, is said by some to be the first programmer, as she used this number system   \n",
      "52400                  This operating system that drove Microsoft's 1980s growth was bought from programmer Tim Paterson   \n",
      "59795   Britannica calls Lady Augusta Ada, daughter of this rakish 19th c. poet, \"the world's first computer programmer\"   \n",
      "73005              Pioneering computer programmer Grace Murray Hopper coined this term for a mysterious computer problem   \n",
      "132277                        In his early 20s, programmer Marc Andreessen developed this company's internet \"Navigator\"   \n",
      "154076              In 1972 programmer Ray Tomlinson chose it to separate an e-mail user's name from the computer's name   \n",
      "158275          Spacewar, the first shoot-'em-up game, was created in the early '60s by programmers at this Mass. school   \n",
      "189895                  Theoretically, this future Friday is the last day programmers have to fix the bug known as \"Y2K\"   \n",
      "\n",
      "                             answer  \n",
      "36397                        binary  \n",
      "52400   DOS (Disk Operating System)  \n",
      "59795                    Lord Byron  \n",
      "73005                           bug  \n",
      "132277                     Netscape  \n",
      "154076                            @  \n",
      "158275                          MIT  \n",
      "189895            December 31, 1999  \n"
     ]
    }
   ],
   "source": [
    "print(search_questions(['programmer'], Jeopardy))"
   ]
  },
  {
   "cell_type": "markdown",
   "metadata": {},
   "source": [
    "4. We may want to eventually compute aggregate statistics, like `.mean()` on the `\" Value\"` column. But right now, the values in that column are strings. Convert the`\" Value\"` column to floats. If you'd like to, you can create a new column with float values.\n",
    "\n",
    "   Now that you can filter the dataset of question, use your new column that contains the float values of each question to find the \"difficulty\" of certain topics. For example, what is the average value of questions that contain the word `\"King\"`?\n",
    "   \n",
    "   Make sure to use the dataset that contains the float values as the dataset you use in your filtering function."
   ]
  },
  {
   "cell_type": "code",
   "execution_count": 125,
   "metadata": {},
   "outputs": [
    {
     "name": "stdout",
     "output_type": "stream",
     "text": [
      "771.8833850722094\n"
     ]
    }
   ],
   "source": [
    "currencyFloat = lambda value: float(value[1:].replace(',','')) if value != \"None\" else 0\n",
    "Jeopardy[\"value\"] = Jeopardy[\"value\"].apply(currencyFloat)\n",
    "\n",
    "def difficulty(word_list, df):\n",
    "    data = search_questions(word_list, df)\n",
    "    # sumOfValues = data['value'].sum()\n",
    "    # avgOfQuestion = sumOfValues / len(data)\n",
    "    return data['value'].mean()\n",
    "\n",
    "print(difficulty(['king'], Jeopardy))\n"
   ]
  },
  {
   "cell_type": "markdown",
   "metadata": {},
   "source": [
    "5. Write a function that returns the count of unique answers to all of the questions in a dataset. For example, after filtering the entire dataset to only questions containing the word `\"King\"`, we could then find all of the unique answers to those questions. The answer \"Henry VIII\" appeared 55 times and was the most common answer."
   ]
  },
  {
   "cell_type": "code",
   "execution_count": 115,
   "metadata": {},
   "outputs": [
    {
     "name": "stdout",
     "output_type": "stream",
     "text": [
      "Henry VIII                   55\n",
      "Solomon                      35\n",
      "Richard III                  33\n",
      "Louis XIV                    31\n",
      "David                        30\n",
      "                             ..\n",
      "cardiac (in card I acted)     1\n",
      "Henderson                     1\n",
      "Computer                      1\n",
      "Indians                       1\n",
      "work                          1\n",
      "Name: answer, Length: 5268, dtype: int64\n"
     ]
    }
   ],
   "source": [
    "def sumOfAnsweres(word_list, df):\n",
    "    '''\n",
    "    Input : List of words\n",
    "    Output: Dataframe with answeres and counts\n",
    "    '''\n",
    "    data = search_questions(word_list, df)\n",
    "    \n",
    "    \n",
    "    return data['answer'].value_counts()\n",
    "\n",
    "test = sumOfAnsweres(['king'], Jeopardy)\n",
    "print(test)"
   ]
  },
  {
   "cell_type": "markdown",
   "metadata": {},
   "source": [
    "6. Explore from here! This is an incredibly rich dataset, and there are so many interesting things to discover. There are a few columns that we haven't even started looking at yet. Here are some ideas on ways to continue working with this data:\n",
    "\n",
    " * Investigate the ways in which questions change over time by filtering by the date. How many questions from the 90s use the word `\"Computer\"` compared to questions from the 2000s?\n",
    " * Is there a connection between the round and the category? Are you more likely to find certain categories, like `\"Literature\"` in Single Jeopardy or Double Jeopardy?\n",
    " * Build a system to quiz yourself. Grab random questions, and use the <a href=\"https://docs.python.org/3/library/functions.html#input\">input</a> function to get a response from the user. Check to see if that response was right or wrong."
   ]
  },
  {
   "cell_type": "code",
   "execution_count": null,
   "metadata": {},
   "outputs": [],
   "source": []
  },
  {
   "cell_type": "markdown",
   "metadata": {},
   "source": [
    "## Solution"
   ]
  },
  {
   "cell_type": "markdown",
   "metadata": {},
   "source": [
    "7. Compare your program to our <a href=\"https://content.codecademy.com/PRO/independent-practice-projects/jeopardy/jeopardy_solution.zip\">sample solution code</a> - remember, that your program might look different from ours (and probably will) and that's okay!"
   ]
  },
  {
   "cell_type": "markdown",
   "metadata": {},
   "source": [
    "8. Great work! Visit <a href=\"https://discuss.codecademy.com/t/this-is-jeopardy-challenge-project-python-pandas/462365\">our forums</a> to compare your project to our sample solution code. You can also learn how to host your own solution on GitHub so you can share it with other learners! Your solution might look different from ours, and that's okay! There are multiple ways to solve these projects, and you'll learn more by seeing others' code."
   ]
  },
  {
   "cell_type": "code",
   "execution_count": null,
   "metadata": {},
   "outputs": [],
   "source": []
  }
 ],
 "metadata": {
  "jupytext": {
   "formats": "ipynb,py:percent"
  },
  "kernelspec": {
   "display_name": "Python 3 (ipykernel)",
   "language": "python",
   "name": "python3"
  },
  "language_info": {
   "codemirror_mode": {
    "name": "ipython",
    "version": 3
   },
   "file_extension": ".py",
   "mimetype": "text/x-python",
   "name": "python",
   "nbconvert_exporter": "python",
   "pygments_lexer": "ipython3",
   "version": "3.10.4"
  }
 },
 "nbformat": 4,
 "nbformat_minor": 2
}
